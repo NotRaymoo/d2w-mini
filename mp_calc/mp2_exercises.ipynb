{
 "cells": [
  {
   "cell_type": "markdown",
   "source": [
    "# Mini Project: Sorting and Evaluating Math Expressions"
   ],
   "metadata": {}
  },
  {
   "cell_type": "markdown",
   "source": [
    "## Week 3"
   ],
   "metadata": {}
  },
  {
   "cell_type": "markdown",
   "source": [
    "**Q1.** *Mergesort:* Modify your `mergesort(array)` function that you did in your cohort session to take one additional argument called `byfunc`, i.e. `mergesort(array, byfunc)`. If the caller does not specify the value of `byfunc`, its default value is `None`. When this argument is `None`, the function `mergesort` behaves similar to your cohort session by sorting the array according to its values. However, when the value of this argument is not `None` but rather some other function, your `mergesort` function should sort the array according to the value returned by this function. \n",
    "\n",
    "For example, instead of sorting an array of integers, we want to sort an array of tupple.\n",
    "```python\n",
    "array = [(1, 2), (3, 2), (2, -1), (4, 7), (-1, -2)]\n",
    "```\n",
    "We can define a function say `select()` as follows:\n",
    "```python\n",
    "def select(item):\n",
    "    return item[0]\n",
    "```\n",
    "\n",
    "You can then should be able to call your `mergesort()` function in the following:\n",
    "```python\n",
    "mergesort(array, select)\n",
    "```\n",
    "which will sort the list of tuples according to the value of its *first* element (recall `item[0]` in `select()`). This means that if you want to sort based on the *second* element of the tuple, you can redefine select as:\n",
    "```python\n",
    "def select(item):\n",
    "    return item[1]\n",
    "```\n",
    "\n",
    "You can also apply this to a list of objects, say `User` class objects.\n",
    "```python\n",
    "array = [<User 1>, <User 2>, <User 3>, ..., <User 101>]\n",
    "```\n",
    "You can define the following `select()` function to sort according to its `username` attribute.\n",
    "```python\n",
    "def select(item):\n",
    "    return item.username\n",
    "```\n",
    "\n",
    "You can then call the `mergesort()` function as follows:\n",
    "```python\n",
    "mergesort(array, select)\n",
    "```\n",
    "\n",
    "Python allows you to write [lambda functions](https://realpython.com/python-lambda/) to replace your `select()` function definition. You can simply call merge sort with the following without defining `select()`.\n",
    "```python\n",
    "mergesort(array, lambda item: item.username)\n",
    "```"
   ],
   "metadata": {}
  },
  {
   "cell_type": "code",
   "execution_count": 1,
   "source": [
    "def mergesort(array, byfunc=None):\n",
    "    if len(array) > 1:\n",
    "        merge(array, 0, (len(array)-1) // 2, len(array)-1, byfunc)\n",
    "        print(array)\n",
    "\n",
    "def merge(array, p, q, r, byfunc=None):\n",
    "    if r>p:\n",
    "        merge(array, p, (p+q) // 2 , q, byfunc)\n",
    "        merge(array, q+1, (q+1+r) // 2, r, byfunc)\n",
    "    left_array = array[p:q+1]\n",
    "    right_array = array[q+1:r+1]\n",
    "    n_left = len(left_array)\n",
    "    n_right = len(right_array)\n",
    "    left = 0\n",
    "    right = 0\n",
    "    dest = p\n",
    "    while left < n_left and right < n_right:\n",
    "        if byfunc is not None:\n",
    "            a = byfunc(left_array[left])\n",
    "            b = byfunc(right_array[right])\n",
    "            if a <= b:\n",
    "                array[dest] = left_array[left]\n",
    "                left += 1\n",
    "            else:\n",
    "                array[dest] = right_array[right]\n",
    "                right += 1\n",
    "        elif left_array[left] <= right_array[right]:\n",
    "            array[dest] = left_array[left]\n",
    "            left += 1\n",
    "        else:\n",
    "            array[dest] = right_array[right]\n",
    "            right += 1\n",
    "        dest += 1\n",
    "    while left < n_left:\n",
    "        array[dest] = left_array[left]\n",
    "        left += 1\n",
    "        dest += 1\n",
    "    while right < n_right:\n",
    "        array[dest] = right_array[right]\n",
    "        right += 1\n",
    "        dest += 1"
   ],
   "outputs": [],
   "metadata": {}
  },
  {
   "cell_type": "code",
   "execution_count": 2,
   "source": [
    "array = [(1, 2), (3, 2), (2, -1), (4, 7), (-1, -2)]\n",
    "mergesort(array, lambda item: item[0])\n",
    "assert array == [(-1, -2), (1, 2), (2, -1), (3, 2), (4, 7)]\n",
    "mergesort(array, lambda item: item[1])\n",
    "assert array == [(-1, -2), (2, -1), (1, 2), (3, 2), (4, 7)]"
   ],
   "outputs": [
    {
     "output_type": "stream",
     "name": "stdout",
     "text": [
      "[(-1, -2), (1, 2), (2, -1), (3, 2), (4, 7)]\n",
      "[(-1, -2), (2, -1), (1, 2), (3, 2), (4, 7)]\n"
     ]
    }
   ],
   "metadata": {}
  },
  {
   "cell_type": "markdown",
   "source": [
    "**Q2.** Create a class called `EvaluateExpression` to evaluate mathematical expressions for Integers. The class has the following property:\n",
    "- `expression`: which is a property with a get and set method. The set method of this property should check if the string contains any invalid characters. If there is any invalid character, it should set the internal property `expr` to an empty String. Otherwise, it should set the string as it is. Valid characters are: `0123456789+-*/()` and an empty space.\n",
    "- `expr`: which is a property that stores only valid expression. It is used internally to store the expression.\n",
    "\n",
    "During object instantiation, a string can be passed on to `__init__()`.\n",
    "- `__init__(expr)`: where expr is the mathematical expression to initialize the property `expr`. If nothing is provided it should initialize to an empty String. If the string contains other characters besides those in the valid characters list above, the property `expr` should be initialized to an empty string.\n",
    "\n",
    "\n"
   ],
   "metadata": {}
  },
  {
   "cell_type": "code",
   "execution_count": 3,
   "source": [
    "class EvaluateExpression:\n",
    "    valid_char = '0123456789+-*/() '\n",
    "    def __init__(self, string=\"\"):\n",
    "        self.expression = string\n",
    "\n",
    "    @property\n",
    "    def expression(self):\n",
    "        return self._expr\n",
    "\n",
    "    @expression.setter\n",
    "    def expression(self, new_expr):\n",
    "        for i in new_expr:\n",
    "            if i not in self.valid_char:\n",
    "                self._expr = \"\"\n",
    "                return\n",
    "        self._expr = new_expr  "
   ],
   "outputs": [],
   "metadata": {}
  },
  {
   "cell_type": "code",
   "execution_count": 4,
   "source": [
    "expr1 = EvaluateExpression()\n",
    "assert expr1.expression == \"\"\n",
    "expr2 = EvaluateExpression(\"1 + 2\")\n",
    "assert expr2.expression == \"1 + 2\"\n",
    "expr2.expression = \"3 * 4\"\n",
    "assert expr2.expression == \"3 * 4\"\n",
    "expr2.expression = \"3 & 4\"\n",
    "assert expr2.expression == \"\""
   ],
   "outputs": [],
   "metadata": {}
  },
  {
   "cell_type": "markdown",
   "source": [
    "**Q3.** The class `EvaluateExpression` also has the following method:\n",
    "- `insert_space()`: which is used to insert one empty space before an operator and another empty space after the operator in the `expression` property. The function should return a new String. Note that this means that if there are two operators side by side, there will be two empty space between them.\n",
    "\n"
   ],
   "metadata": {}
  },
  {
   "cell_type": "code",
   "execution_count": 5,
   "source": [
    "class EvaluateExpression:\n",
    "    valid_char = '0123456789+-*/() '\n",
    "    operator = '+-*/()'\n",
    "    def __init__(self, string=\"\"):\n",
    "        self.expression = string\n",
    "\n",
    "    @property\n",
    "    def expression(self):\n",
    "        print(self._expr)\n",
    "        return self._expr\n",
    "\n",
    "    @expression.setter\n",
    "    def expression(self, new_expr):\n",
    "        for i in new_expr:\n",
    "            if i not in self.valid_char:\n",
    "                self._expr = \"\"\n",
    "                return\n",
    "        self._expr = new_expr  \n",
    "    \n",
    "    def insert_space(self):\n",
    "        ls = [s for s in self.expression]\n",
    "        for i, s in enumerate(ls):\n",
    "            if s in self.operator:\n",
    "                ls[i] = f\" {ls[i]} \"\n",
    "        self.expression = \"\".join(ls)\n",
    "        return self.expression\n",
    "    \n",
    "    def insert_space(self):\n",
    "        ls = []\n",
    "        for s in self.expression:\n",
    "            if s in self.operator:\n",
    "                s = f\" {s} \"\n",
    "            ls.append(s)\n",
    "        self.new_expression = \"\".join(ls)\n",
    "        return self.new_expression\n",
    "    \n",
    "expr1 = EvaluateExpression(\"(1+2)\")\n",
    "print(expr1.insert_space())\n",
    "assert expr1.insert_space() == \" ( 1 + 2 ) \"\n",
    "expr1.expression = \"((1+2)*3/(4-5))\"\n",
    "assert expr1.insert_space() == \" (  ( 1 + 2 )  * 3 /  ( 4 - 5 )  ) \""
   ],
   "outputs": [
    {
     "output_type": "stream",
     "name": "stdout",
     "text": [
      "(1+2)\n",
      " ( 1 + 2 ) \n",
      "(1+2)\n",
      "((1+2)*3/(4-5))\n"
     ]
    }
   ],
   "metadata": {}
  },
  {
   "cell_type": "code",
   "execution_count": 6,
   "source": [
    "expr1 = EvaluateExpression(\"(1+2)\")\n",
    "assert expr1.insert_space() == \" ( 1 + 2 ) \"\n",
    "expr1.expression = \"((1+2)*3/(4-5))\"\n",
    "assert expr1.insert_space() == \" (  ( 1 + 2 )  * 3 /  ( 4 - 5 )  ) \""
   ],
   "outputs": [
    {
     "output_type": "stream",
     "name": "stdout",
     "text": [
      "(1+2)\n",
      "((1+2)*3/(4-5))\n"
     ]
    }
   ],
   "metadata": {
    "scrolled": true
   }
  },
  {
   "cell_type": "markdown",
   "source": [
    "## Week 4"
   ],
   "metadata": {}
  },
  {
   "cell_type": "markdown",
   "source": [
    "**Q4.** The class `EvaluateExpression` also has the following methods:\n",
    "- `process_operator(operand_stack, operator_stack)`: which process one operator. This method should modify the Stacks provided in the arguments. Note that the division operator `/` should be considered as an integer division for this exercise. This means that you need to use `//` in Python."
   ],
   "metadata": {}
  },
  {
   "cell_type": "code",
   "execution_count": 7,
   "source": [
    "class Stack:\n",
    "    def __init__(self):\n",
    "        self.__items = []\n",
    "        \n",
    "    def push(self, item):\n",
    "        self.__items.append(item)\n",
    "\n",
    "    def pop(self):\n",
    "        return self.__items.pop(-1) if not self.is_empty else None\n",
    "            \n",
    "    def peek(self):\n",
    "        return None if self.is_empty else self.__items[-1]\n",
    "\n",
    "    @property\n",
    "    def is_empty(self):\n",
    "        return self.size == 0\n",
    "\n",
    "    @property\n",
    "    def size(self):\n",
    "        return len(self.__items)"
   ],
   "outputs": [],
   "metadata": {}
  },
  {
   "cell_type": "code",
   "execution_count": 8,
   "source": [
    "class EvaluateExpression:\n",
    "    valid_char = '0123456789+-*/() '\n",
    "    operator = '+-*/()'\n",
    "    def __init__(self, string=\"\"):\n",
    "        self.expression = string\n",
    "\n",
    "    @property\n",
    "    def expression(self):\n",
    "        print(self._expr)\n",
    "        return self._expr\n",
    "\n",
    "    @expression.setter\n",
    "    def expression(self, new_expr):\n",
    "        for i in new_expr:\n",
    "            if i not in self.valid_char:\n",
    "                self._expr = \"\"\n",
    "                return\n",
    "        self._expr = new_expr  \n",
    "    \n",
    "    def insert_space(self):\n",
    "        ls = [s for s in self.expression]\n",
    "        for i, s in enumerate(ls):\n",
    "            if s in self.operator:\n",
    "                ls[i] = f\" {ls[i]} \"\n",
    "        self.expression = (\"\").join(ls)\n",
    "        return self.expression\n",
    "\n",
    "    def process_operator(self, operand_stack, operator_stack):\n",
    "        right = str(operand_stack.pop())\n",
    "        left = str(operand_stack.pop())\n",
    "        operator = operator_stack.pop()\n",
    "        if operator == \"/\":\n",
    "            operator = \"//\"\n",
    "        operand_stack.push(eval(left+operator+right))"
   ],
   "outputs": [],
   "metadata": {}
  },
  {
   "cell_type": "code",
   "execution_count": 9,
   "source": [
    "expr1 = EvaluateExpression()\n",
    "operand_stack = Stack()\n",
    "operator_stack = Stack()\n",
    "operand_stack.push(3)\n",
    "operand_stack.push(4)\n",
    "operator_stack.push(\"+\")\n",
    "expr1.process_operator(operand_stack, operator_stack)\n",
    "assert operand_stack.peek() == 7\n",
    "operand_stack.push(5)\n",
    "operator_stack.push(\"*\")\n",
    "expr1.process_operator(operand_stack, operator_stack)\n",
    "assert operand_stack.peek() == 35\n",
    "operand_stack.push(30)\n",
    "operator_stack.push(\"-\")\n",
    "expr1.process_operator(operand_stack, operator_stack)\n",
    "assert operand_stack.peek() == 5\n",
    "operand_stack.push(2)\n",
    "operator_stack.push(\"/\")\n",
    "expr1.process_operator(operand_stack, operator_stack)\n",
    "assert operand_stack.peek() == 2"
   ],
   "outputs": [],
   "metadata": {}
  },
  {
   "cell_type": "markdown",
   "source": [
    "**Q5.** The class `EvaluateExpression` also has the following methods:\n",
    "- `evaluate()`: which evaluate the mathematical expression contained in the property `expression`. The method should return an Integer. This method contains two processes:\n",
    "    - Phase 1: In this phase, the code scans the expression from left to right to extract operands, operators, and the parentheses.\n",
    "        1. If the extracted character is an operand, push it to `operand_stack`.\n",
    "        1. If the extracted character is + or - operator, process  all the operators at the top of the `operator_stack` and push the extracted operator to `operator_stack`. You should process all the operators as long as the `operator_stack` is not empty and the top of the `operator_stack` is not `(` or `)` symbols.\n",
    "        1. If the extracted character is a `*` or `/` operator, process all the `*` or `/` operators at the top of the `operator_stack` and push the extracted operator to `operator_stack`. \n",
    "        1. If the extracted character is a `(` symbol, push it to `operator_stack`.\n",
    "        1. If the extracted character is a `)` symbol, repeatedly process the operators from the top of `operator_stack` until seeing the `(` symbol on the stack. \n",
    "    - Phase 2: Repeatedly process the operators from the top of `operator_stack` until `operator_stack` is empty.\n"
   ],
   "metadata": {}
  },
  {
   "cell_type": "code",
   "execution_count": 28,
   "source": [
    "class Stack:\n",
    "    def __init__(self):\n",
    "        self.__items = []\n",
    "        \n",
    "    def push(self, item):\n",
    "        self.__items.append(item)\n",
    "\n",
    "    def pop(self):\n",
    "        return self.__items.pop(-1) if not self.is_empty else None\n",
    "            \n",
    "    def peek(self):\n",
    "        return None if self.is_empty else self.__items[-1]\n",
    "\n",
    "    @property\n",
    "    def is_empty(self):\n",
    "        return self.size == 0\n",
    "\n",
    "    @property\n",
    "    def size(self):\n",
    "        return len(self.__items)\n",
    "\n",
    "class EvaluateExpression:\n",
    "    valid_char = '0123456789+-*/() '\n",
    "    #valid_char = '0123456789+-*/(). '\n",
    "    operand = '0123456789'\n",
    "    #operand = '0123456789.'\n",
    "    operator = '+-*/()'\n",
    "    def __init__(self, string=\"\"):\n",
    "        self.expression = string\n",
    "\n",
    "    @property\n",
    "    def expression(self):\n",
    "        print(self._expr)\n",
    "        return self._expr\n",
    "\n",
    "    @expression.setter\n",
    "    def expression(self, new_expr):\n",
    "        for i in new_expr:\n",
    "            if i not in self.valid_char:\n",
    "                self._expr = \"\"\n",
    "                return\n",
    "        self._expr = new_expr  \n",
    "    \n",
    "    def insert_space(self):\n",
    "        ls = [s for s in self.expression]\n",
    "        prev_s = \" \"\n",
    "        neg_num = False\n",
    "        for i, s in enumerate(ls):\n",
    "            if s in self.operator:\n",
    "                if s == '-' and prev_s not in self.operand:\n",
    "                    neg_num = True\n",
    "                    ls[i] = \"\"\n",
    "                else:\n",
    "                    ls[i] = f\" {ls[i]} \"\n",
    "            if neg_num is True and s in self.operand:\n",
    "                ls[i] = prev_s+s\n",
    "                neg_num = False\n",
    "            if s!= \" \":\n",
    "                prev_s = s\n",
    "        print(ls)\n",
    "        self.expression = (\"\").join(ls)\n",
    "        print(self.expression)\n",
    "        return self.expression\n",
    "\n",
    "    def process_operator(self, operand_stack, operator_stack):\n",
    "        right = str(operand_stack.pop())\n",
    "        left = str(operand_stack.pop())\n",
    "        operator = operator_stack.pop()\n",
    "        if operator == \"/\":\n",
    "            operator = \"//\"\n",
    "        operand_stack.push(eval(left+operator+right))  # from the previous parts\n",
    "\n",
    "    def evaluate(self):\n",
    "        operand_stack = Stack()\n",
    "        operator_stack = Stack()\n",
    "        expression = self.insert_space()\n",
    "        tokens = expression.split()\n",
    "        print(tokens)\n",
    "        # Add operands to stack\n",
    "        for i, s in enumerate(tokens):\n",
    "            if s == \"+\" or s == \"-\":\n",
    "                while operator_stack.peek() != \"(\" and not operator_stack.is_empty:\n",
    "                    self.process_operator(operand_stack, operator_stack)\n",
    "                operator_stack.push(s)\n",
    "            elif s == \"*\" or s == \"/\":\n",
    "                while operator_stack.peek() in [\"*\", \"/\"]:\n",
    "                    self.process_operator(operand_stack, operator_stack)\n",
    "                operator_stack.push(s)\n",
    "            elif s == \"(\":\n",
    "                operator_stack.push(s)\n",
    "            elif s == \")\":\n",
    "                while operator_stack.peek() != \"(\":\n",
    "                    self.process_operator(operand_stack, operator_stack)\n",
    "                operator_stack.pop()\n",
    "            else:\n",
    "                operand_stack.push(s)\n",
    "        while not operator_stack.is_empty:\n",
    "            self.process_operator(operand_stack, operator_stack)\n",
    "        result = operand_stack.pop()\n",
    "        return result"
   ],
   "outputs": [],
   "metadata": {}
  },
  {
   "cell_type": "code",
   "execution_count": 29,
   "source": [
    "expr1 = EvaluateExpression(\"(1+2)*3\")\n",
    "assert expr1.evaluate() == 9\n",
    "expr1.expression = \"(1 + 2) * 4 - 3\"\n",
    "assert expr1.evaluate() == 9\n",
    "expr2 = EvaluateExpression(\"(1+2 *4-  3)* (7/5 * 6)\")\n",
    "print(expr2.evaluate())\n",
    "assert expr2.evaluate() == 36"
   ],
   "outputs": [
    {
     "output_type": "stream",
     "name": "stdout",
     "text": [
      "(1+2)*3\n",
      "[' ( ', '1', ' + ', '2', ' ) ', ' * ', '3']\n",
      " ( 1 + 2 )  * 3\n",
      " ( 1 + 2 )  * 3\n",
      " ( 1 + 2 )  * 3\n",
      "['(', '1', '+', '2', ')', '*', '3']\n",
      "(1 + 2) * 4 - 3\n",
      "[' ( ', '1', ' ', ' + ', ' ', '2', ' ) ', ' ', ' * ', ' ', '4', ' ', ' - ', ' ', '3']\n",
      " ( 1  +  2 )   *  4  -  3\n",
      " ( 1  +  2 )   *  4  -  3\n",
      " ( 1  +  2 )   *  4  -  3\n",
      "['(', '1', '+', '2', ')', '*', '4', '-', '3']\n",
      "(1+2 *4-  3)* (7/5 * 6)\n",
      "[' ( ', '1', ' + ', '2', ' ', ' * ', '4', ' - ', ' ', ' ', '3', ' ) ', ' * ', ' ', ' ( ', '7', ' / ', '5', ' ', ' * ', ' ', '6', ' ) ']\n",
      " ( 1 + 2  * 4 -   3 )  *   ( 7 / 5  *  6 ) \n",
      " ( 1 + 2  * 4 -   3 )  *   ( 7 / 5  *  6 ) \n",
      " ( 1 + 2  * 4 -   3 )  *   ( 7 / 5  *  6 ) \n",
      "['(', '1', '+', '2', '*', '4', '-', '3', ')', '*', '(', '7', '/', '5', '*', '6', ')']\n"
     ]
    }
   ],
   "metadata": {}
  },
  {
   "cell_type": "code",
   "execution_count": 30,
   "source": [
    "exp = EvaluateExpression(\"(1+23)*-33\")\n",
    "assert exp.evaluate() == -792\n",
    "expa = EvaluateExpression(\"-5 * 6 + (3 - 2 * -2)\")\n",
    "assert expa.evaluate() == -23"
   ],
   "outputs": [
    {
     "output_type": "stream",
     "name": "stdout",
     "text": [
      "(1+23)*-33\n",
      "[' ( ', '1', ' + ', '2', '3', ' ) ', ' * ', '', '-3', '3']\n",
      " ( 1 + 23 )  * -33\n",
      " ( 1 + 23 )  * -33\n",
      " ( 1 + 23 )  * -33\n",
      "['(', '1', '+', '23', ')', '*', '-33']\n",
      "-5 * 6 + (3 - 2 * -2)\n",
      "['', '-5', ' ', ' * ', ' ', '6', ' ', ' + ', ' ', ' ( ', '3', ' ', ' - ', ' ', '2', ' ', ' * ', ' ', '', '-2', ' ) ']\n",
      "-5  *  6  +   ( 3  -  2  *  -2 ) \n",
      "-5  *  6  +   ( 3  -  2  *  -2 ) \n",
      "-5  *  6  +   ( 3  -  2  *  -2 ) \n",
      "['-5', '*', '6', '+', '(', '3', '-', '2', '*', '-2', ')']\n"
     ]
    }
   ],
   "metadata": {}
  },
  {
   "cell_type": "code",
   "execution_count": 27,
   "source": [
    "b = 1\n",
    "a = b\n",
    "print(id(a), id(b))\n",
    "b = 2\n",
    "print(id(a), id(b))\n",
    "print(a, b)"
   ],
   "outputs": [
    {
     "output_type": "stream",
     "name": "stdout",
     "text": [
      "4511930720 4511930720\n",
      "4511930720 4511930752\n",
      "1 2\n"
     ]
    }
   ],
   "metadata": {}
  },
  {
   "cell_type": "code",
   "execution_count": null,
   "source": [],
   "outputs": [],
   "metadata": {}
  }
 ],
 "metadata": {
  "kernelspec": {
   "display_name": "Python 3",
   "language": "python",
   "name": "python3"
  },
  "language_info": {
   "codemirror_mode": {
    "name": "ipython",
    "version": 3
   },
   "file_extension": ".py",
   "mimetype": "text/x-python",
   "name": "python",
   "nbconvert_exporter": "python",
   "pygments_lexer": "ipython3",
   "version": "3.8.3"
  }
 },
 "nbformat": 4,
 "nbformat_minor": 4
}